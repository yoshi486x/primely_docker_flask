{
 "cells": [
  {
   "cell_type": "code",
   "execution_count": 6,
   "metadata": {},
   "outputs": [],
   "source": [
    "import json\n",
    "import os\n",
    "import numpy as np\n",
    "import pandas as pd\n",
    "import pathlib\n",
    "\n",
    "import config"
   ]
  },
  {
   "cell_type": "code",
   "execution_count": 7,
   "metadata": {},
   "outputs": [],
   "source": [
    "FILENAMES = config.FILENAMES\n",
    "JSON_DIR_PATH = config.JSON_DIR_PATH\n",
    "CATEGORY = 'attendances'"
   ]
  },
  {
   "cell_type": "code",
   "execution_count": 8,
   "metadata": {},
   "outputs": [],
   "source": [
    "items = []\n",
    "for filename in FILENAMES:\n",
    "    file_path = pathlib.Path(JSON_DIR_PATH, filename).with_suffix('.json')\n",
    "    with open(file_path, 'r') as json_file:\n",
    "        dict_data = json.load(json_file)\n",
    "    items.append(dict_data)\n"
   ]
  },
  {
   "cell_type": "code",
   "execution_count": 9,
   "metadata": {},
   "outputs": [
    {
     "name": "stdout",
     "output_type": "stream",
     "text": "dates: ['2018-08-24', '2018-08-24', '2018-08-24', '2018-08-24', '2018-08-24', '2018-08-24', '2018-08-24', '2018-08-24']\nkeys: ['所定勤務日数', '所定勤務時間数', '所定内勤務時間数', '時間外勤務時間数', '休日勤務時間数', '代休取得日数', '早退時間', '早退回数']\nvalues: [21, 162.45, 152.48, 39.45, 7.45, 1, 2.12, 1]\n"
    },
    {
     "data": {
      "text/html": "<div>\n<style scoped>\n    .dataframe tbody tr th:only-of-type {\n        vertical-align: middle;\n    }\n\n    .dataframe tbody tr th {\n        vertical-align: top;\n    }\n\n    .dataframe thead th {\n        text-align: right;\n    }\n</style>\n<table border=\"1\" class=\"dataframe\">\n  <thead>\n    <tr style=\"text-align: right;\">\n      <th></th>\n      <th>date</th>\n      <th>type</th>\n      <th>value</th>\n    </tr>\n  </thead>\n  <tbody>\n    <tr>\n      <th>0</th>\n      <td>2018-08-24</td>\n      <td>所定勤務日数</td>\n      <td>21.00</td>\n    </tr>\n    <tr>\n      <th>1</th>\n      <td>2018-08-24</td>\n      <td>所定勤務時間数</td>\n      <td>162.45</td>\n    </tr>\n    <tr>\n      <th>2</th>\n      <td>2018-08-24</td>\n      <td>所定内勤務時間数</td>\n      <td>152.48</td>\n    </tr>\n    <tr>\n      <th>3</th>\n      <td>2018-08-24</td>\n      <td>時間外勤務時間数</td>\n      <td>39.45</td>\n    </tr>\n    <tr>\n      <th>4</th>\n      <td>2018-08-24</td>\n      <td>休日勤務時間数</td>\n      <td>7.45</td>\n    </tr>\n    <tr>\n      <th>5</th>\n      <td>2018-08-24</td>\n      <td>代休取得日数</td>\n      <td>1.00</td>\n    </tr>\n    <tr>\n      <th>6</th>\n      <td>2018-08-24</td>\n      <td>早退時間</td>\n      <td>2.12</td>\n    </tr>\n    <tr>\n      <th>7</th>\n      <td>2018-08-24</td>\n      <td>早退回数</td>\n      <td>1.00</td>\n    </tr>\n  </tbody>\n</table>\n</div>",
      "text/plain": "         date      type   value\n0  2018-08-24    所定勤務日数   21.00\n1  2018-08-24   所定勤務時間数  162.45\n2  2018-08-24  所定内勤務時間数  152.48\n3  2018-08-24  時間外勤務時間数   39.45\n4  2018-08-24   休日勤務時間数    7.45\n5  2018-08-24    代休取得日数    1.00\n6  2018-08-24      早退時間    2.12\n7  2018-08-24      早退回数    1.00"
     },
     "execution_count": 9,
     "metadata": {},
     "output_type": "execute_result"
    }
   ],
   "source": [
    "# THIS CELL IS FOR TEST. Test by a single item.\n",
    "dataframes = []\n",
    "item = items[0]\n",
    "\n",
    "dates, keys, values = [], [], []\n",
    "date = item['paid_date']\n",
    "# dates.append(date)\n",
    "for key, value in item[CATEGORY].items():\n",
    "    dates.append(date)\n",
    "    keys.append(key)\n",
    "    values.append(value)\n",
    "print('dates:', dates)\n",
    "print('keys:', keys)\n",
    "print('values:', values)\n",
    "df = pd.DataFrame({'date': dates, 'type': keys, 'value': values})\n",
    "dataframes.append(df)\n",
    "pd.concat(dataframes)"
   ]
  },
  {
   "cell_type": "markdown",
   "metadata": {},
   "source": [
    "## Lambda implementation starts here "
   ]
  },
  {
   "cell_type": "code",
   "execution_count": 10,
   "metadata": {},
   "outputs": [
    {
     "data": {
      "text/html": "<div>\n<style scoped>\n    .dataframe tbody tr th:only-of-type {\n        vertical-align: middle;\n    }\n\n    .dataframe tbody tr th {\n        vertical-align: top;\n    }\n\n    .dataframe thead th {\n        text-align: right;\n    }\n</style>\n<table border=\"1\" class=\"dataframe\">\n  <thead>\n    <tr style=\"text-align: right;\">\n      <th></th>\n      <th>date</th>\n      <th>type</th>\n      <th>value</th>\n    </tr>\n  </thead>\n  <tbody>\n    <tr>\n      <th>0</th>\n      <td>2018-08-24</td>\n      <td>所定勤務日数</td>\n      <td>21.00</td>\n    </tr>\n    <tr>\n      <th>1</th>\n      <td>2018-08-24</td>\n      <td>所定勤務時間数</td>\n      <td>162.45</td>\n    </tr>\n    <tr>\n      <th>2</th>\n      <td>2018-08-24</td>\n      <td>所定内勤務時間数</td>\n      <td>152.48</td>\n    </tr>\n    <tr>\n      <th>3</th>\n      <td>2018-08-24</td>\n      <td>時間外勤務時間数</td>\n      <td>39.45</td>\n    </tr>\n    <tr>\n      <th>4</th>\n      <td>2018-08-24</td>\n      <td>休日勤務時間数</td>\n      <td>7.45</td>\n    </tr>\n    <tr>\n      <th>5</th>\n      <td>2018-08-24</td>\n      <td>代休取得日数</td>\n      <td>1.00</td>\n    </tr>\n    <tr>\n      <th>6</th>\n      <td>2018-08-24</td>\n      <td>早退時間</td>\n      <td>2.12</td>\n    </tr>\n    <tr>\n      <th>7</th>\n      <td>2018-08-24</td>\n      <td>早退回数</td>\n      <td>1.00</td>\n    </tr>\n    <tr>\n      <th>0</th>\n      <td>2018-09-25</td>\n      <td>所定勤務日数</td>\n      <td>23.00</td>\n    </tr>\n    <tr>\n      <th>1</th>\n      <td>2018-09-25</td>\n      <td>所定勤務時間数</td>\n      <td>178.15</td>\n    </tr>\n    <tr>\n      <th>2</th>\n      <td>2018-09-25</td>\n      <td>所定内勤務時間数</td>\n      <td>160.45</td>\n    </tr>\n    <tr>\n      <th>3</th>\n      <td>2018-09-25</td>\n      <td>時間外勤務時間数</td>\n      <td>34.56</td>\n    </tr>\n    <tr>\n      <th>4</th>\n      <td>2018-09-25</td>\n      <td>休日勤務時間数</td>\n      <td>7.45</td>\n    </tr>\n    <tr>\n      <th>5</th>\n      <td>2018-09-25</td>\n      <td>代休取得日数</td>\n      <td>1.00</td>\n    </tr>\n    <tr>\n      <th>6</th>\n      <td>2018-09-25</td>\n      <td>早退時間</td>\n      <td>2.00</td>\n    </tr>\n    <tr>\n      <th>7</th>\n      <td>2018-09-25</td>\n      <td>早退回数</td>\n      <td>1.00</td>\n    </tr>\n    <tr>\n      <th>8</th>\n      <td>2018-09-25</td>\n      <td>年休取得日数</td>\n      <td>1.00</td>\n    </tr>\n    <tr>\n      <th>9</th>\n      <td>2018-09-25</td>\n      <td>深夜勤務時間数</td>\n      <td>0.30</td>\n    </tr>\n    <tr>\n      <th>0</th>\n      <td>2018-10-25</td>\n      <td>所定勤務日数</td>\n      <td>18.00</td>\n    </tr>\n    <tr>\n      <th>1</th>\n      <td>2018-10-25</td>\n      <td>所定勤務時間数</td>\n      <td>139.30</td>\n    </tr>\n    <tr>\n      <th>2</th>\n      <td>2018-10-25</td>\n      <td>所定内勤務時間数</td>\n      <td>138.00</td>\n    </tr>\n    <tr>\n      <th>3</th>\n      <td>2018-10-25</td>\n      <td>時間外勤務時間数</td>\n      <td>35.02</td>\n    </tr>\n    <tr>\n      <th>4</th>\n      <td>2018-10-25</td>\n      <td>休日勤務時間数</td>\n      <td>8.15</td>\n    </tr>\n    <tr>\n      <th>5</th>\n      <td>2018-10-25</td>\n      <td>代休取得日数</td>\n      <td>1.00</td>\n    </tr>\n    <tr>\n      <th>6</th>\n      <td>2018-10-25</td>\n      <td>早退時間</td>\n      <td>1.30</td>\n    </tr>\n    <tr>\n      <th>7</th>\n      <td>2018-10-25</td>\n      <td>早退回数</td>\n      <td>1.00</td>\n    </tr>\n    <tr>\n      <th>8</th>\n      <td>2018-10-25</td>\n      <td>年休取得日数</td>\n      <td>1.00</td>\n    </tr>\n    <tr>\n      <th>9</th>\n      <td>2018-10-25</td>\n      <td>深夜勤務時間数</td>\n      <td>0.30</td>\n    </tr>\n    <tr>\n      <th>0</th>\n      <td>2018-11-22</td>\n      <td>所定勤務日数</td>\n      <td>22.00</td>\n    </tr>\n    <tr>\n      <th>1</th>\n      <td>2018-11-22</td>\n      <td>所定勤務時間数</td>\n      <td>170.30</td>\n    </tr>\n    <tr>\n      <th>2</th>\n      <td>2018-11-22</td>\n      <td>所定内勤務時間数</td>\n      <td>162.45</td>\n    </tr>\n    <tr>\n      <th>3</th>\n      <td>2018-11-22</td>\n      <td>時間外勤務時間数</td>\n      <td>40.45</td>\n    </tr>\n    <tr>\n      <th>4</th>\n      <td>2018-11-22</td>\n      <td>休日勤務時間数</td>\n      <td>8.15</td>\n    </tr>\n    <tr>\n      <th>5</th>\n      <td>2018-11-22</td>\n      <td>代休取得日数</td>\n      <td>1.00</td>\n    </tr>\n    <tr>\n      <th>6</th>\n      <td>2018-11-22</td>\n      <td>早退時間</td>\n      <td>1.30</td>\n    </tr>\n    <tr>\n      <th>7</th>\n      <td>2018-11-22</td>\n      <td>早退回数</td>\n      <td>1.00</td>\n    </tr>\n    <tr>\n      <th>8</th>\n      <td>2018-11-22</td>\n      <td>年休取得日数</td>\n      <td>1.00</td>\n    </tr>\n    <tr>\n      <th>9</th>\n      <td>2018-11-22</td>\n      <td>深夜勤務時間数</td>\n      <td>0.30</td>\n    </tr>\n    <tr>\n      <th>0</th>\n      <td>2018-12-25</td>\n      <td>所定勤務日数</td>\n      <td>21.00</td>\n    </tr>\n    <tr>\n      <th>1</th>\n      <td>2018-12-25</td>\n      <td>所定勤務時間数</td>\n      <td>162.45</td>\n    </tr>\n    <tr>\n      <th>2</th>\n      <td>2018-12-25</td>\n      <td>所定内勤務時間数</td>\n      <td>162.45</td>\n    </tr>\n    <tr>\n      <th>3</th>\n      <td>2018-12-25</td>\n      <td>時間外勤務時間数</td>\n      <td>33.15</td>\n    </tr>\n    <tr>\n      <th>4</th>\n      <td>2018-12-25</td>\n      <td>休日勤務時間数</td>\n      <td>8.15</td>\n    </tr>\n    <tr>\n      <th>5</th>\n      <td>2018-12-25</td>\n      <td>代休取得日数</td>\n      <td>1.00</td>\n    </tr>\n    <tr>\n      <th>6</th>\n      <td>2018-12-25</td>\n      <td>早退時間</td>\n      <td>1.30</td>\n    </tr>\n    <tr>\n      <th>7</th>\n      <td>2018-12-25</td>\n      <td>早退回数</td>\n      <td>1.00</td>\n    </tr>\n    <tr>\n      <th>8</th>\n      <td>2018-12-25</td>\n      <td>年休取得日数</td>\n      <td>1.00</td>\n    </tr>\n    <tr>\n      <th>9</th>\n      <td>2018-12-25</td>\n      <td>深夜勤務時間数</td>\n      <td>1.05</td>\n    </tr>\n  </tbody>\n</table>\n</div>",
      "text/plain": "         date      type   value\n0  2018-08-24    所定勤務日数   21.00\n1  2018-08-24   所定勤務時間数  162.45\n2  2018-08-24  所定内勤務時間数  152.48\n3  2018-08-24  時間外勤務時間数   39.45\n4  2018-08-24   休日勤務時間数    7.45\n5  2018-08-24    代休取得日数    1.00\n6  2018-08-24      早退時間    2.12\n7  2018-08-24      早退回数    1.00\n0  2018-09-25    所定勤務日数   23.00\n1  2018-09-25   所定勤務時間数  178.15\n2  2018-09-25  所定内勤務時間数  160.45\n3  2018-09-25  時間外勤務時間数   34.56\n4  2018-09-25   休日勤務時間数    7.45\n5  2018-09-25    代休取得日数    1.00\n6  2018-09-25      早退時間    2.00\n7  2018-09-25      早退回数    1.00\n8  2018-09-25    年休取得日数    1.00\n9  2018-09-25   深夜勤務時間数    0.30\n0  2018-10-25    所定勤務日数   18.00\n1  2018-10-25   所定勤務時間数  139.30\n2  2018-10-25  所定内勤務時間数  138.00\n3  2018-10-25  時間外勤務時間数   35.02\n4  2018-10-25   休日勤務時間数    8.15\n5  2018-10-25    代休取得日数    1.00\n6  2018-10-25      早退時間    1.30\n7  2018-10-25      早退回数    1.00\n8  2018-10-25    年休取得日数    1.00\n9  2018-10-25   深夜勤務時間数    0.30\n0  2018-11-22    所定勤務日数   22.00\n1  2018-11-22   所定勤務時間数  170.30\n2  2018-11-22  所定内勤務時間数  162.45\n3  2018-11-22  時間外勤務時間数   40.45\n4  2018-11-22   休日勤務時間数    8.15\n5  2018-11-22    代休取得日数    1.00\n6  2018-11-22      早退時間    1.30\n7  2018-11-22      早退回数    1.00\n8  2018-11-22    年休取得日数    1.00\n9  2018-11-22   深夜勤務時間数    0.30\n0  2018-12-25    所定勤務日数   21.00\n1  2018-12-25   所定勤務時間数  162.45\n2  2018-12-25  所定内勤務時間数  162.45\n3  2018-12-25  時間外勤務時間数   33.15\n4  2018-12-25   休日勤務時間数    8.15\n5  2018-12-25    代休取得日数    1.00\n6  2018-12-25      早退時間    1.30\n7  2018-12-25      早退回数    1.00\n8  2018-12-25    年休取得日数    1.00\n9  2018-12-25   深夜勤務時間数    1.05"
     },
     "execution_count": 10,
     "metadata": {},
     "output_type": "execute_result"
    }
   ],
   "source": [
    "dataframes = []\n",
    "for item in items:\n",
    "    dates, keys, values = [], [], []\n",
    "    date = item['paid_date']\n",
    "    # dates.append(date)\n",
    "    for key, value in item[CATEGORY].items():\n",
    "        dates.append(date)\n",
    "        keys.append(key)\n",
    "        values.append(value)\n",
    "#     print('dates:', dates)\n",
    "#     print('keys:', keys)\n",
    "#     print('values:', values)\n",
    "    df = pd.DataFrame({'date': dates, 'type': keys, 'value': values})\n",
    "    dataframes.append(df)\n",
    "\n",
    "df = pd.concat(dataframes)\n",
    "df\n",
    "    "
   ]
  },
  {
   "cell_type": "code",
   "execution_count": 11,
   "metadata": {},
   "outputs": [
    {
     "data": {
      "text/html": "<div>\n<style scoped>\n    .dataframe tbody tr th:only-of-type {\n        vertical-align: middle;\n    }\n\n    .dataframe tbody tr th {\n        vertical-align: top;\n    }\n\n    .dataframe thead th {\n        text-align: right;\n    }\n</style>\n<table border=\"1\" class=\"dataframe\">\n  <thead>\n    <tr style=\"text-align: right;\">\n      <th>date</th>\n      <th>2018-08-24</th>\n      <th>2018-09-25</th>\n      <th>2018-10-25</th>\n      <th>2018-11-22</th>\n      <th>2018-12-25</th>\n    </tr>\n    <tr>\n      <th>type</th>\n      <th></th>\n      <th></th>\n      <th></th>\n      <th></th>\n      <th></th>\n    </tr>\n  </thead>\n  <tbody>\n    <tr>\n      <th>代休取得日数</th>\n      <td>1.00</td>\n      <td>1.00</td>\n      <td>1.00</td>\n      <td>1.00</td>\n      <td>1.00</td>\n    </tr>\n    <tr>\n      <th>休日勤務時間数</th>\n      <td>7.45</td>\n      <td>7.45</td>\n      <td>8.15</td>\n      <td>8.15</td>\n      <td>8.15</td>\n    </tr>\n    <tr>\n      <th>年休取得日数</th>\n      <td>0.00</td>\n      <td>1.00</td>\n      <td>1.00</td>\n      <td>1.00</td>\n      <td>1.00</td>\n    </tr>\n    <tr>\n      <th>所定内勤務時間数</th>\n      <td>152.48</td>\n      <td>160.45</td>\n      <td>138.00</td>\n      <td>162.45</td>\n      <td>162.45</td>\n    </tr>\n    <tr>\n      <th>所定勤務日数</th>\n      <td>21.00</td>\n      <td>23.00</td>\n      <td>18.00</td>\n      <td>22.00</td>\n      <td>21.00</td>\n    </tr>\n    <tr>\n      <th>所定勤務時間数</th>\n      <td>162.45</td>\n      <td>178.15</td>\n      <td>139.30</td>\n      <td>170.30</td>\n      <td>162.45</td>\n    </tr>\n    <tr>\n      <th>早退回数</th>\n      <td>1.00</td>\n      <td>1.00</td>\n      <td>1.00</td>\n      <td>1.00</td>\n      <td>1.00</td>\n    </tr>\n    <tr>\n      <th>早退時間</th>\n      <td>2.12</td>\n      <td>2.00</td>\n      <td>1.30</td>\n      <td>1.30</td>\n      <td>1.30</td>\n    </tr>\n    <tr>\n      <th>時間外勤務時間数</th>\n      <td>39.45</td>\n      <td>34.56</td>\n      <td>35.02</td>\n      <td>40.45</td>\n      <td>33.15</td>\n    </tr>\n    <tr>\n      <th>深夜勤務時間数</th>\n      <td>0.00</td>\n      <td>0.30</td>\n      <td>0.30</td>\n      <td>0.30</td>\n      <td>1.05</td>\n    </tr>\n  </tbody>\n</table>\n</div>",
      "text/plain": "date      2018-08-24  2018-09-25  2018-10-25  2018-11-22  2018-12-25\ntype                                                                \n代休取得日数          1.00        1.00        1.00        1.00        1.00\n休日勤務時間数         7.45        7.45        8.15        8.15        8.15\n年休取得日数          0.00        1.00        1.00        1.00        1.00\n所定内勤務時間数      152.48      160.45      138.00      162.45      162.45\n所定勤務日数         21.00       23.00       18.00       22.00       21.00\n所定勤務時間数       162.45      178.15      139.30      170.30      162.45\n早退回数            1.00        1.00        1.00        1.00        1.00\n早退時間            2.12        2.00        1.30        1.30        1.30\n時間外勤務時間数       39.45       34.56       35.02       40.45       33.15\n深夜勤務時間数         0.00        0.30        0.30        0.30        1.05"
     },
     "execution_count": 11,
     "metadata": {},
     "output_type": "execute_result"
    }
   ],
   "source": [
    "table = pd.pivot_table(df, index='type', columns='date', values='value', fill_value=0)\n",
    "table"
   ]
  },
  {
   "cell_type": "markdown",
   "metadata": {},
   "source": [
    "# Insert extracted data in json format"
   ]
  },
  {
   "cell_type": "code",
   "execution_count": 12,
   "metadata": {},
   "outputs": [
    {
     "name": "stdout",
     "output_type": "stream",
     "text": "{'rows': ['代休取得日数', '休日勤務時間数', '年休取得日数', '所定内勤務時間数', '所定勤務日数', '所定勤務時間数', '早退回数', '早退時間', '時間外勤務時間数', '深夜勤務時間数']} 1\n{'columns': ['2018-08-24', '2018-09-25', '2018-10-25', '2018-11-22', '2018-12-25']} 1\n"
    }
   ],
   "source": [
    "rows = {'rows': list(table.index)}\n",
    "columns = {'columns': list(table.columns)}\n",
    "print(rows, len(rows))\n",
    "print(columns, len(columns))"
   ]
  },
  {
   "cell_type": "code",
   "execution_count": 13,
   "metadata": {},
   "outputs": [
    {
     "data": {
      "text/plain": "{'values': [[1.0, 1.0, 1.0, 1.0, 1.0],\n  [7.45, 7.45, 8.15, 8.15, 8.15],\n  [0.0, 1.0, 1.0, 1.0, 1.0],\n  [152.48, 160.45, 138.0, 162.45, 162.45],\n  [21.0, 23.0, 18.0, 22.0, 21.0],\n  [162.45, 178.15, 139.3, 170.3, 162.45],\n  [1.0, 1.0, 1.0, 1.0, 1.0],\n  [2.12, 2.0, 1.3, 1.3, 1.3],\n  [39.45, 34.56, 35.02, 40.45, 33.15],\n  [0.0, 0.3, 0.3, 0.3, 1.05]]}"
     },
     "execution_count": 13,
     "metadata": {},
     "output_type": "execute_result"
    }
   ],
   "source": [
    "v_array = table.values\n",
    "v_array\n",
    "# v_array = table.to_numpy()\n",
    "values = {'values': v_array.tolist()}\n",
    "values"
   ]
  },
  {
   "cell_type": "code",
   "execution_count": 14,
   "metadata": {},
   "outputs": [
    {
     "data": {
      "text/plain": "{'attendances': {}}"
     },
     "execution_count": 14,
     "metadata": {},
     "output_type": "execute_result"
    }
   ],
   "source": [
    "res_dict = {CATEGORY: {}}\n",
    "res_dict"
   ]
  },
  {
   "cell_type": "code",
   "execution_count": 10,
   "metadata": {},
   "outputs": [
    {
     "data": {
      "text/plain": [
       "{'attendances': {'rows': ['2018-05-25',\n",
       "   '2018-06-25',\n",
       "   '2018-07-25',\n",
       "   '2018-08-24',\n",
       "   '2018-09-25',\n",
       "   '2018-10-25',\n",
       "   '2018-11-22',\n",
       "   '2018-12-25',\n",
       "   '2019-01-25',\n",
       "   '2019-02-25',\n",
       "   '2019-03-25',\n",
       "   '2019-04-25',\n",
       "   '2019-05-24',\n",
       "   '2019-06-25',\n",
       "   '2019-07-25',\n",
       "   '2019-08-23',\n",
       "   '2019-09-25',\n",
       "   '2019-10-25',\n",
       "   '2019-11-25',\n",
       "   '2019-12-25',\n",
       "   '2020-01-24',\n",
       "   '2020-02-25'],\n",
       "  'columns': ['代休取得日数',\n",
       "   '休日勤務時間数',\n",
       "   '年休取得日数',\n",
       "   '所定内勤務時間数',\n",
       "   '所定勤務日数',\n",
       "   '所定勤務時間数',\n",
       "   '早退回数',\n",
       "   '早退時間',\n",
       "   '時間外勤務時間数',\n",
       "   '深夜勤務時間数'],\n",
       "  'values': [[0.0, 0.0, 0.0, 155.0, 20.0, 155.0, 0.0, 0.0, 0.54, 0.0],\n",
       "   [0.0, 0.0, 0.0, 155.0, 20.0, 155.0, 0.0, 0.0, 0.54, 0.0],\n",
       "   [0.0, 8.0, 0.0, 162.45, 21.0, 162.45, 0.0, 0.0, 11.15, 0.0],\n",
       "   [1.0, 7.45, 0.0, 152.48, 21.0, 162.45, 1.0, 2.12, 39.45, 0.0],\n",
       "   [1.0, 7.45, 1.0, 160.45, 23.0, 178.15, 1.0, 2.0, 34.56, 0.3],\n",
       "   [1.0, 8.15, 1.0, 138.0, 18.0, 139.3, 1.0, 1.3, 35.02, 0.3],\n",
       "   [1.0, 8.15, 1.0, 162.45, 22.0, 170.3, 1.0, 1.3, 40.45, 0.3],\n",
       "   [1.0, 8.15, 1.0, 162.45, 21.0, 162.45, 1.0, 1.3, 33.15, 1.05],\n",
       "   [1.0, 8.15, 2.0, 131.45, 19.0, 147.15, 1.0, 1.3, 13.2, 0.15],\n",
       "   [1.0, 8.15, 1.0, 139.3, 19.0, 147.15, 1.0, 1.3, 31.35, 1.45],\n",
       "   [1.0, 8.15, 1.0, 147.15, 19.0, 147.15, 1.0, 1.3, 20.0, 1.45],\n",
       "   [1.0, 8.15, 1.0, 155.0, 20.0, 155.0, 1.0, 1.3, 26.25, 1.45],\n",
       "   [1.0, 8.15, 1.0, 155.0, 20.0, 155.0, 1.0, 1.3, 39.15, 1.4],\n",
       "   [1.0, 8.15, 1.0, 147.15, 19.0, 147.15, 1.0, 1.3, 17.1, 1.25],\n",
       "   [1.0, 1.3, 1.0, 155.0, 20.0, 155.0, 1.0, 1.3, 23.4, 8.0],\n",
       "   [1.0, 1.3, 1.0, 170.3, 22.0, 170.3, 1.0, 1.3, 31.15, 1.35],\n",
       "   [1.0, 1.3, 4.0, 131.45, 21.0, 162.45, 1.0, 1.3, 25.46, 1.35],\n",
       "   [1.0, 1.3, 4.0, 147.15, 19.0, 147.15, 1.0, 1.3, 24.35, 0.35],\n",
       "   [1.0, 1.3, 4.0, 162.45, 21.0, 162.45, 1.0, 1.3, 22.2, 0.35],\n",
       "   [1.0, 1.3, 2.0, 139.3, 20.0, 155.0, 1.0, 1.3, 26.1, 2.0],\n",
       "   [1.0, 1.3, 2.0, 155.0, 20.0, 155.0, 1.0, 1.3, 6.4, 2.0],\n",
       "   [1.0, 1.3, 2.0, 147.15, 19.0, 147.15, 1.0, 1.3, 0.55, 2.0]]}}"
      ]
     },
     "execution_count": 10,
     "metadata": {},
     "output_type": "execute_result"
    }
   ],
   "source": [
    " \n",
    "res_dict"
   ]
  },
  {
   "cell_type": "code",
   "execution_count": null,
   "metadata": {},
   "outputs": [],
   "source": []
  }
 ],
 "metadata": {
  "kernelspec": {
   "display_name": "Python 3",
   "language": "python",
   "name": "python3"
  },
  "language_info": {
   "codemirror_mode": {
    "name": "ipython",
    "version": 3
   },
   "file_extension": ".py",
   "mimetype": "text/x-python",
   "name": "python",
   "nbconvert_exporter": "python",
   "pygments_lexer": "ipython3",
   "version": "3.7.4-final"
  }
 },
 "nbformat": 4,
 "nbformat_minor": 2
}